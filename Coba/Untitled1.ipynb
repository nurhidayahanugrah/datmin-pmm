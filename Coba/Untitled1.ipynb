{
 "cells": [
  {
   "cell_type": "code",
   "execution_count": 1,
   "id": "ef9064b7-00ba-457d-a1e7-886b580c10d2",
   "metadata": {},
   "outputs": [
    {
     "name": "stdout",
     "output_type": "stream",
     "text": [
      "DataFrame 1:\n",
      "   A  B   C\n",
      "0  1  5   9\n",
      "1  2  6  10\n",
      "2  3  7  11\n",
      "3  4  8  12\n",
      "\n",
      "DataFrame 2:\n",
      "    A   B   C\n",
      "0  13  17  21\n",
      "1  14  18  22\n",
      "2  15  19  23\n",
      "3  16  20  24\n",
      "\n",
      "Hasil Penambahan:\n",
      "    A   B   C\n",
      "0  14  22  30\n",
      "1  16  24  32\n",
      "2  18  26  34\n",
      "3  20  28  36\n"
     ]
    }
   ],
   "source": [
    "import pandas as pd\n",
    "\n",
    "# Contoh DataFrame 1\n",
    "data1 = {\n",
    "    'A': [1, 2, 3, 4],\n",
    "    'B': [5, 6, 7, 8],\n",
    "    'C': [9, 10, 11, 12]\n",
    "}\n",
    "\n",
    "df1 = pd.DataFrame(data1)\n",
    "\n",
    "# Contoh DataFrame 2\n",
    "data2 = {\n",
    "    'A': [13, 14, 15, 16],\n",
    "    'B': [17, 18, 19, 20],\n",
    "    'C': [21, 22, 23, 24]\n",
    "}\n",
    "\n",
    "df2 = pd.DataFrame(data2)\n",
    "\n",
    "# Menambahkan dua DataFrame menggunakan iloc\n",
    "result_df = df1.copy()  # Copy df1 agar tidak merubah df1 secara langsung\n",
    "\n",
    "# Jumlahkan setiap elemen menggunakan iloc\n",
    "result_df.iloc[:, :] = df1.iloc[:, :] + df2.iloc[:, :]\n",
    "\n",
    "# Menampilkan hasil\n",
    "print(\"DataFrame 1:\")\n",
    "print(df1)\n",
    "\n",
    "print(\"\\nDataFrame 2:\")\n",
    "print(df2)\n",
    "\n",
    "print(\"\\nHasil Penambahan:\")\n",
    "print(result_df)\n"
   ]
  },
  {
   "cell_type": "code",
   "execution_count": null,
   "id": "23728938-a1b3-4d13-8ed5-21f71ff10021",
   "metadata": {},
   "outputs": [],
   "source": []
  }
 ],
 "metadata": {
  "kernelspec": {
   "display_name": "Python 3 (ipykernel)",
   "language": "python",
   "name": "python3"
  },
  "language_info": {
   "codemirror_mode": {
    "name": "ipython",
    "version": 3
   },
   "file_extension": ".py",
   "mimetype": "text/x-python",
   "name": "python",
   "nbconvert_exporter": "python",
   "pygments_lexer": "ipython3",
   "version": "3.10.7"
  }
 },
 "nbformat": 4,
 "nbformat_minor": 5
}
